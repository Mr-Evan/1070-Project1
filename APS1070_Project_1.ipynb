{
 "cells": [
  {
   "cell_type": "markdown",
   "metadata": {
    "id": "08owH-AVyZCX"
   },
   "source": [
    "# APS1070\n",
    "#### Project 1 --- Basic Principles and Models \n",
    "**Deadline: Feb 2nd, 11PM - 10 percent**"
   ]
  },
  {
   "cell_type": "markdown",
   "metadata": {
    "id": "fRZ3wBoe398S"
   },
   "source": [
    "**Academic Integrity**\n",
    "\n",
    "This project is individual - it is to be completed on your own. If you have questions, please post your query in the APS1070 Piazza Q&A forums (the answer might be useful to others!).\n",
    "\n",
    "Do not share your code with others, or post your work online. Do not submit code that you have not written yourself. Students suspected of plagiarism on a project, midterm or exam will be referred to the department for formal discipline for breaches of the Student Code of Conduct."
   ]
  },
  {
   "cell_type": "markdown",
   "metadata": {
    "id": "qonbueFGyemb"
   },
   "source": [
    "Name:\n",
    "\n",
    "Student ID:"
   ]
  },
  {
   "cell_type": "markdown",
   "metadata": {
    "id": "Dykrw3cyy7PF"
   },
   "source": [
    "##**Marking Scheme:**\n",
    "\n",
    "This project is worth **10 percent** of your final grade.\n",
    "\n",
    "Draw a plot or table where necessary to summarize your findings. \n",
    "\n",
    "**Practice Vectorized coding**: If you need to write a loop in your solution, think about how you can implement the same functionality with vectorized operations. Try to avoid loops as much as possible (in some cases, loops are inevitable).\n",
    "\n",
    "\n"
   ]
  },
  {
   "cell_type": "markdown",
   "metadata": {
    "id": "dBW_phAt5wYk"
   },
   "source": [
    "### How to submit **(HTML + IPYNB)**\n",
    "\n",
    "1. Download your notebook: `File -> Download .ipynb`\n",
    "\n",
    "2. Click on the Files icon on the far left menu of Colab\n",
    "\n",
    "3. Select & upload your `.ipynb` file you just downloaded, and then obtain its path (right click) (you might need to hit the Refresh button before your file shows up)\n",
    "\n",
    "\n",
    "4. execute the following in a Colab cell:\n",
    "```\n",
    "%%shell\n",
    "jupyter nbconvert --to html /PATH/TO/YOUR/NOTEBOOKFILE.ipynb\n",
    "```\n",
    "\n",
    "5. An HTML version of your notebook will appear in the files, so you can download it.\n",
    "\n",
    "6. Submit **both** <font color='red'>`HTML` and `IPYNB`</font>  files on Quercus for grading.\n",
    "\n",
    "\n",
    "\n",
    "Ref: https://stackoverflow.com/a/64487858 \n",
    "\n"
   ]
  },
  {
   "cell_type": "markdown",
   "metadata": {
    "id": "yYlo7mIXyZFe"
   },
   "source": [
    "# Project 1 [10 Marks] \n",
    "Let's apply the tools we have learned in the tutorial to a new dataset.\n",
    "\n",
    "We're going to work with a [diabetes dataset](https://scikit-learn.org/stable/modules/generated/sklearn.datasets.load_diabetes.html). Download it using the cell below:"
   ]
  },
  {
   "cell_type": "code",
   "execution_count": 60,
   "metadata": {
    "colab": {
     "base_uri": "https://localhost:8080/"
    },
    "id": "YFo8KVcryZFe",
    "outputId": "488a73f3-47d7-4985-b308-4087868aab28"
   },
   "outputs": [
    {
     "data": {
      "text/plain": [
       "{'data': array([[ 0.03807591,  0.05068012,  0.06169621, ..., -0.00259226,\n",
       "          0.01990842, -0.01764613],\n",
       "        [-0.00188202, -0.04464164, -0.05147406, ..., -0.03949338,\n",
       "         -0.06832974, -0.09220405],\n",
       "        [ 0.08529891,  0.05068012,  0.04445121, ..., -0.00259226,\n",
       "          0.00286377, -0.02593034],\n",
       "        ...,\n",
       "        [ 0.04170844,  0.05068012, -0.01590626, ..., -0.01107952,\n",
       "         -0.04687948,  0.01549073],\n",
       "        [-0.04547248, -0.04464164,  0.03906215, ...,  0.02655962,\n",
       "          0.04452837, -0.02593034],\n",
       "        [-0.04547248, -0.04464164, -0.0730303 , ..., -0.03949338,\n",
       "         -0.00421986,  0.00306441]]),\n",
       " 'target': array([151.,  75., 141., 206., 135.,  97., 138.,  63., 110., 310., 101.,\n",
       "         69., 179., 185., 118., 171., 166., 144.,  97., 168.,  68.,  49.,\n",
       "         68., 245., 184., 202., 137.,  85., 131., 283., 129.,  59., 341.,\n",
       "         87.,  65., 102., 265., 276., 252.,  90., 100.,  55.,  61.,  92.,\n",
       "        259.,  53., 190., 142.,  75., 142., 155., 225.,  59., 104., 182.,\n",
       "        128.,  52.,  37., 170., 170.,  61., 144.,  52., 128.,  71., 163.,\n",
       "        150.,  97., 160., 178.,  48., 270., 202., 111.,  85.,  42., 170.,\n",
       "        200., 252., 113., 143.,  51.,  52., 210.,  65., 141.,  55., 134.,\n",
       "         42., 111.,  98., 164.,  48.,  96.,  90., 162., 150., 279.,  92.,\n",
       "         83., 128., 102., 302., 198.,  95.,  53., 134., 144., 232.,  81.,\n",
       "        104.,  59., 246., 297., 258., 229., 275., 281., 179., 200., 200.,\n",
       "        173., 180.,  84., 121., 161.,  99., 109., 115., 268., 274., 158.,\n",
       "        107.,  83., 103., 272.,  85., 280., 336., 281., 118., 317., 235.,\n",
       "         60., 174., 259., 178., 128.,  96., 126., 288.,  88., 292.,  71.,\n",
       "        197., 186.,  25.,  84.,  96., 195.,  53., 217., 172., 131., 214.,\n",
       "         59.,  70., 220., 268., 152.,  47.,  74., 295., 101., 151., 127.,\n",
       "        237., 225.,  81., 151., 107.,  64., 138., 185., 265., 101., 137.,\n",
       "        143., 141.,  79., 292., 178.,  91., 116.,  86., 122.,  72., 129.,\n",
       "        142.,  90., 158.,  39., 196., 222., 277.,  99., 196., 202., 155.,\n",
       "         77., 191.,  70.,  73.,  49.,  65., 263., 248., 296., 214., 185.,\n",
       "         78.,  93., 252., 150.,  77., 208.,  77., 108., 160.,  53., 220.,\n",
       "        154., 259.,  90., 246., 124.,  67.,  72., 257., 262., 275., 177.,\n",
       "         71.,  47., 187., 125.,  78.,  51., 258., 215., 303., 243.,  91.,\n",
       "        150., 310., 153., 346.,  63.,  89.,  50.,  39., 103., 308., 116.,\n",
       "        145.,  74.,  45., 115., 264.,  87., 202., 127., 182., 241.,  66.,\n",
       "         94., 283.,  64., 102., 200., 265.,  94., 230., 181., 156., 233.,\n",
       "         60., 219.,  80.,  68., 332., 248.,  84., 200.,  55.,  85.,  89.,\n",
       "         31., 129.,  83., 275.,  65., 198., 236., 253., 124.,  44., 172.,\n",
       "        114., 142., 109., 180., 144., 163., 147.,  97., 220., 190., 109.,\n",
       "        191., 122., 230., 242., 248., 249., 192., 131., 237.,  78., 135.,\n",
       "        244., 199., 270., 164.,  72.,  96., 306.,  91., 214.,  95., 216.,\n",
       "        263., 178., 113., 200., 139., 139.,  88., 148.,  88., 243.,  71.,\n",
       "         77., 109., 272.,  60.,  54., 221.,  90., 311., 281., 182., 321.,\n",
       "         58., 262., 206., 233., 242., 123., 167.,  63., 197.,  71., 168.,\n",
       "        140., 217., 121., 235., 245.,  40.,  52., 104., 132.,  88.,  69.,\n",
       "        219.,  72., 201., 110.,  51., 277.,  63., 118.,  69., 273., 258.,\n",
       "         43., 198., 242., 232., 175.,  93., 168., 275., 293., 281.,  72.,\n",
       "        140., 189., 181., 209., 136., 261., 113., 131., 174., 257.,  55.,\n",
       "         84.,  42., 146., 212., 233.,  91., 111., 152., 120.,  67., 310.,\n",
       "         94., 183.,  66., 173.,  72.,  49.,  64.,  48., 178., 104., 132.,\n",
       "        220.,  57.]),\n",
       " 'frame': None,\n",
       " 'DESCR': '.. _diabetes_dataset:\\n\\nDiabetes dataset\\n----------------\\n\\nTen baseline variables, age, sex, body mass index, average blood\\npressure, and six blood serum measurements were obtained for each of n =\\n442 diabetes patients, as well as the response of interest, a\\nquantitative measure of disease progression one year after baseline.\\n\\n**Data Set Characteristics:**\\n\\n  :Number of Instances: 442\\n\\n  :Number of Attributes: First 10 columns are numeric predictive values\\n\\n  :Target: Column 11 is a quantitative measure of disease progression one year after baseline\\n\\n  :Attribute Information:\\n      - age     age in years\\n      - sex\\n      - bmi     body mass index\\n      - bp      average blood pressure\\n      - s1      tc, total serum cholesterol\\n      - s2      ldl, low-density lipoproteins\\n      - s3      hdl, high-density lipoproteins\\n      - s4      tch, total cholesterol / HDL\\n      - s5      ltg, possibly log of serum triglycerides level\\n      - s6      glu, blood sugar level\\n\\nNote: Each of these 10 feature variables have been mean centered and scaled by the standard deviation times `n_samples` (i.e. the sum of squares of each column totals 1).\\n\\nSource URL:\\nhttps://www4.stat.ncsu.edu/~boos/var.select/diabetes.html\\n\\nFor more information see:\\nBradley Efron, Trevor Hastie, Iain Johnstone and Robert Tibshirani (2004) \"Least Angle Regression,\" Annals of Statistics (with discussion), 407-499.\\n(https://web.stanford.edu/~hastie/Papers/LARS/LeastAngle_2002.pdf)',\n",
       " 'feature_names': ['age',\n",
       "  'sex',\n",
       "  'bmi',\n",
       "  'bp',\n",
       "  's1',\n",
       "  's2',\n",
       "  's3',\n",
       "  's4',\n",
       "  's5',\n",
       "  's6'],\n",
       " 'data_filename': 'diabetes_data.csv.gz',\n",
       " 'target_filename': 'diabetes_target.csv.gz',\n",
       " 'data_module': 'sklearn.datasets.data'}"
      ]
     },
     "execution_count": 60,
     "metadata": {},
     "output_type": "execute_result"
    }
   ],
   "source": [
    "from sklearn.datasets import load_diabetes\n",
    "import numpy as np\n",
    "import matplotlib.pyplot as plt\n",
    "import pandas as pd\n",
    "dataset = load_diabetes()\n",
    "dataset"
   ]
  },
  {
   "cell_type": "markdown",
   "metadata": {
    "id": "gOGmwyQNyZFh"
   },
   "source": [
    "## Part 1: Getting started [2.5 Marks]\n",
    "First off, take a look at the `data`, `target` and `feature_names` entries in the `dataset` dictionary. They contain the information we'll be working with here. Then, create a Pandas DataFrame called `df` containing the data and the targets, with the feature names as column headings. If you need help, see [here](https://pandas.pydata.org/pandas-docs/stable/reference/api/pandas.DataFrame.html) for more details on how to achieve this. **[0.4]**\n",
    "* How many features do we have in this dataset? \n",
    "\n",
    "  Answer: 10\n",
    "* Determine the median target value. \n",
    "\n",
    "  Answer: 140.5\n",
    "* How many participants have a target value greater than the median target value? \n",
    "  \n",
    "  Answer: 221\n",
    "\n",
    "Now add an additional column containing either 0 (if the target value is below the median) or 1 (if the target value is above the median). This will be the new target value to classify the data as \"diabetes severity below median\" or \"diabetes severity above median\". **[0.5]**"
   ]
  },
  {
   "cell_type": "code",
   "execution_count": 61,
   "metadata": {
    "colab": {
     "base_uri": "https://localhost:8080/",
     "height": 419
    },
    "id": "XRMjvxrsTj9W",
    "outputId": "3a2a34ef-731d-415d-d8a8-b797ad550ad9"
   },
   "outputs": [
    {
     "data": {
      "text/html": [
       "\n",
       "  <div id=\"df-e551d630-1f65-48e9-bb78-02957b2a46dc\">\n",
       "    <div class=\"colab-df-container\">\n",
       "      <div>\n",
       "<style scoped>\n",
       "    .dataframe tbody tr th:only-of-type {\n",
       "        vertical-align: middle;\n",
       "    }\n",
       "\n",
       "    .dataframe tbody tr th {\n",
       "        vertical-align: top;\n",
       "    }\n",
       "\n",
       "    .dataframe thead th {\n",
       "        text-align: right;\n",
       "    }\n",
       "</style>\n",
       "<table border=\"1\" class=\"dataframe\">\n",
       "  <thead>\n",
       "    <tr style=\"text-align: right;\">\n",
       "      <th></th>\n",
       "      <th>age</th>\n",
       "      <th>sex</th>\n",
       "      <th>bmi</th>\n",
       "      <th>bp</th>\n",
       "      <th>s1</th>\n",
       "      <th>s2</th>\n",
       "      <th>s3</th>\n",
       "      <th>s4</th>\n",
       "      <th>s5</th>\n",
       "      <th>s6</th>\n",
       "      <th>target</th>\n",
       "    </tr>\n",
       "  </thead>\n",
       "  <tbody>\n",
       "    <tr>\n",
       "      <th>0</th>\n",
       "      <td>0.038076</td>\n",
       "      <td>0.050680</td>\n",
       "      <td>0.061696</td>\n",
       "      <td>0.021872</td>\n",
       "      <td>-0.044223</td>\n",
       "      <td>-0.034821</td>\n",
       "      <td>-0.043401</td>\n",
       "      <td>-0.002592</td>\n",
       "      <td>0.019908</td>\n",
       "      <td>-0.017646</td>\n",
       "      <td>151.0</td>\n",
       "    </tr>\n",
       "    <tr>\n",
       "      <th>1</th>\n",
       "      <td>-0.001882</td>\n",
       "      <td>-0.044642</td>\n",
       "      <td>-0.051474</td>\n",
       "      <td>-0.026328</td>\n",
       "      <td>-0.008449</td>\n",
       "      <td>-0.019163</td>\n",
       "      <td>0.074412</td>\n",
       "      <td>-0.039493</td>\n",
       "      <td>-0.068330</td>\n",
       "      <td>-0.092204</td>\n",
       "      <td>75.0</td>\n",
       "    </tr>\n",
       "    <tr>\n",
       "      <th>2</th>\n",
       "      <td>0.085299</td>\n",
       "      <td>0.050680</td>\n",
       "      <td>0.044451</td>\n",
       "      <td>-0.005671</td>\n",
       "      <td>-0.045599</td>\n",
       "      <td>-0.034194</td>\n",
       "      <td>-0.032356</td>\n",
       "      <td>-0.002592</td>\n",
       "      <td>0.002864</td>\n",
       "      <td>-0.025930</td>\n",
       "      <td>141.0</td>\n",
       "    </tr>\n",
       "    <tr>\n",
       "      <th>3</th>\n",
       "      <td>-0.089063</td>\n",
       "      <td>-0.044642</td>\n",
       "      <td>-0.011595</td>\n",
       "      <td>-0.036656</td>\n",
       "      <td>0.012191</td>\n",
       "      <td>0.024991</td>\n",
       "      <td>-0.036038</td>\n",
       "      <td>0.034309</td>\n",
       "      <td>0.022692</td>\n",
       "      <td>-0.009362</td>\n",
       "      <td>206.0</td>\n",
       "    </tr>\n",
       "    <tr>\n",
       "      <th>4</th>\n",
       "      <td>0.005383</td>\n",
       "      <td>-0.044642</td>\n",
       "      <td>-0.036385</td>\n",
       "      <td>0.021872</td>\n",
       "      <td>0.003935</td>\n",
       "      <td>0.015596</td>\n",
       "      <td>0.008142</td>\n",
       "      <td>-0.002592</td>\n",
       "      <td>-0.031991</td>\n",
       "      <td>-0.046641</td>\n",
       "      <td>135.0</td>\n",
       "    </tr>\n",
       "    <tr>\n",
       "      <th>...</th>\n",
       "      <td>...</td>\n",
       "      <td>...</td>\n",
       "      <td>...</td>\n",
       "      <td>...</td>\n",
       "      <td>...</td>\n",
       "      <td>...</td>\n",
       "      <td>...</td>\n",
       "      <td>...</td>\n",
       "      <td>...</td>\n",
       "      <td>...</td>\n",
       "      <td>...</td>\n",
       "    </tr>\n",
       "    <tr>\n",
       "      <th>437</th>\n",
       "      <td>0.041708</td>\n",
       "      <td>0.050680</td>\n",
       "      <td>0.019662</td>\n",
       "      <td>0.059744</td>\n",
       "      <td>-0.005697</td>\n",
       "      <td>-0.002566</td>\n",
       "      <td>-0.028674</td>\n",
       "      <td>-0.002592</td>\n",
       "      <td>0.031193</td>\n",
       "      <td>0.007207</td>\n",
       "      <td>178.0</td>\n",
       "    </tr>\n",
       "    <tr>\n",
       "      <th>438</th>\n",
       "      <td>-0.005515</td>\n",
       "      <td>0.050680</td>\n",
       "      <td>-0.015906</td>\n",
       "      <td>-0.067642</td>\n",
       "      <td>0.049341</td>\n",
       "      <td>0.079165</td>\n",
       "      <td>-0.028674</td>\n",
       "      <td>0.034309</td>\n",
       "      <td>-0.018118</td>\n",
       "      <td>0.044485</td>\n",
       "      <td>104.0</td>\n",
       "    </tr>\n",
       "    <tr>\n",
       "      <th>439</th>\n",
       "      <td>0.041708</td>\n",
       "      <td>0.050680</td>\n",
       "      <td>-0.015906</td>\n",
       "      <td>0.017282</td>\n",
       "      <td>-0.037344</td>\n",
       "      <td>-0.013840</td>\n",
       "      <td>-0.024993</td>\n",
       "      <td>-0.011080</td>\n",
       "      <td>-0.046879</td>\n",
       "      <td>0.015491</td>\n",
       "      <td>132.0</td>\n",
       "    </tr>\n",
       "    <tr>\n",
       "      <th>440</th>\n",
       "      <td>-0.045472</td>\n",
       "      <td>-0.044642</td>\n",
       "      <td>0.039062</td>\n",
       "      <td>0.001215</td>\n",
       "      <td>0.016318</td>\n",
       "      <td>0.015283</td>\n",
       "      <td>-0.028674</td>\n",
       "      <td>0.026560</td>\n",
       "      <td>0.044528</td>\n",
       "      <td>-0.025930</td>\n",
       "      <td>220.0</td>\n",
       "    </tr>\n",
       "    <tr>\n",
       "      <th>441</th>\n",
       "      <td>-0.045472</td>\n",
       "      <td>-0.044642</td>\n",
       "      <td>-0.073030</td>\n",
       "      <td>-0.081414</td>\n",
       "      <td>0.083740</td>\n",
       "      <td>0.027809</td>\n",
       "      <td>0.173816</td>\n",
       "      <td>-0.039493</td>\n",
       "      <td>-0.004220</td>\n",
       "      <td>0.003064</td>\n",
       "      <td>57.0</td>\n",
       "    </tr>\n",
       "  </tbody>\n",
       "</table>\n",
       "<p>442 rows × 11 columns</p>\n",
       "</div>\n",
       "      <button class=\"colab-df-convert\" onclick=\"convertToInteractive('df-e551d630-1f65-48e9-bb78-02957b2a46dc')\"\n",
       "              title=\"Convert this dataframe to an interactive table.\"\n",
       "              style=\"display:none;\">\n",
       "        \n",
       "  <svg xmlns=\"http://www.w3.org/2000/svg\" height=\"24px\"viewBox=\"0 0 24 24\"\n",
       "       width=\"24px\">\n",
       "    <path d=\"M0 0h24v24H0V0z\" fill=\"none\"/>\n",
       "    <path d=\"M18.56 5.44l.94 2.06.94-2.06 2.06-.94-2.06-.94-.94-2.06-.94 2.06-2.06.94zm-11 1L8.5 8.5l.94-2.06 2.06-.94-2.06-.94L8.5 2.5l-.94 2.06-2.06.94zm10 10l.94 2.06.94-2.06 2.06-.94-2.06-.94-.94-2.06-.94 2.06-2.06.94z\"/><path d=\"M17.41 7.96l-1.37-1.37c-.4-.4-.92-.59-1.43-.59-.52 0-1.04.2-1.43.59L10.3 9.45l-7.72 7.72c-.78.78-.78 2.05 0 2.83L4 21.41c.39.39.9.59 1.41.59.51 0 1.02-.2 1.41-.59l7.78-7.78 2.81-2.81c.8-.78.8-2.07 0-2.86zM5.41 20L4 18.59l7.72-7.72 1.47 1.35L5.41 20z\"/>\n",
       "  </svg>\n",
       "      </button>\n",
       "      \n",
       "  <style>\n",
       "    .colab-df-container {\n",
       "      display:flex;\n",
       "      flex-wrap:wrap;\n",
       "      gap: 12px;\n",
       "    }\n",
       "\n",
       "    .colab-df-convert {\n",
       "      background-color: #E8F0FE;\n",
       "      border: none;\n",
       "      border-radius: 50%;\n",
       "      cursor: pointer;\n",
       "      display: none;\n",
       "      fill: #1967D2;\n",
       "      height: 32px;\n",
       "      padding: 0 0 0 0;\n",
       "      width: 32px;\n",
       "    }\n",
       "\n",
       "    .colab-df-convert:hover {\n",
       "      background-color: #E2EBFA;\n",
       "      box-shadow: 0px 1px 2px rgba(60, 64, 67, 0.3), 0px 1px 3px 1px rgba(60, 64, 67, 0.15);\n",
       "      fill: #174EA6;\n",
       "    }\n",
       "\n",
       "    [theme=dark] .colab-df-convert {\n",
       "      background-color: #3B4455;\n",
       "      fill: #D2E3FC;\n",
       "    }\n",
       "\n",
       "    [theme=dark] .colab-df-convert:hover {\n",
       "      background-color: #434B5C;\n",
       "      box-shadow: 0px 1px 3px 1px rgba(0, 0, 0, 0.15);\n",
       "      filter: drop-shadow(0px 1px 2px rgba(0, 0, 0, 0.3));\n",
       "      fill: #FFFFFF;\n",
       "    }\n",
       "  </style>\n",
       "\n",
       "      <script>\n",
       "        const buttonEl =\n",
       "          document.querySelector('#df-e551d630-1f65-48e9-bb78-02957b2a46dc button.colab-df-convert');\n",
       "        buttonEl.style.display =\n",
       "          google.colab.kernel.accessAllowed ? 'block' : 'none';\n",
       "\n",
       "        async function convertToInteractive(key) {\n",
       "          const element = document.querySelector('#df-e551d630-1f65-48e9-bb78-02957b2a46dc');\n",
       "          const dataTable =\n",
       "            await google.colab.kernel.invokeFunction('convertToInteractive',\n",
       "                                                     [key], {});\n",
       "          if (!dataTable) return;\n",
       "\n",
       "          const docLinkHtml = 'Like what you see? Visit the ' +\n",
       "            '<a target=\"_blank\" href=https://colab.research.google.com/notebooks/data_table.ipynb>data table notebook</a>'\n",
       "            + ' to learn more about interactive tables.';\n",
       "          element.innerHTML = '';\n",
       "          dataTable['output_type'] = 'display_data';\n",
       "          await google.colab.output.renderOutput(dataTable, element);\n",
       "          const docLink = document.createElement('div');\n",
       "          docLink.innerHTML = docLinkHtml;\n",
       "          element.appendChild(docLink);\n",
       "        }\n",
       "      </script>\n",
       "    </div>\n",
       "  </div>\n",
       "  "
      ],
      "text/plain": [
       "          age       sex       bmi        bp        s1        s2        s3  \\\n",
       "0    0.038076  0.050680  0.061696  0.021872 -0.044223 -0.034821 -0.043401   \n",
       "1   -0.001882 -0.044642 -0.051474 -0.026328 -0.008449 -0.019163  0.074412   \n",
       "2    0.085299  0.050680  0.044451 -0.005671 -0.045599 -0.034194 -0.032356   \n",
       "3   -0.089063 -0.044642 -0.011595 -0.036656  0.012191  0.024991 -0.036038   \n",
       "4    0.005383 -0.044642 -0.036385  0.021872  0.003935  0.015596  0.008142   \n",
       "..        ...       ...       ...       ...       ...       ...       ...   \n",
       "437  0.041708  0.050680  0.019662  0.059744 -0.005697 -0.002566 -0.028674   \n",
       "438 -0.005515  0.050680 -0.015906 -0.067642  0.049341  0.079165 -0.028674   \n",
       "439  0.041708  0.050680 -0.015906  0.017282 -0.037344 -0.013840 -0.024993   \n",
       "440 -0.045472 -0.044642  0.039062  0.001215  0.016318  0.015283 -0.028674   \n",
       "441 -0.045472 -0.044642 -0.073030 -0.081414  0.083740  0.027809  0.173816   \n",
       "\n",
       "           s4        s5        s6  target  \n",
       "0   -0.002592  0.019908 -0.017646   151.0  \n",
       "1   -0.039493 -0.068330 -0.092204    75.0  \n",
       "2   -0.002592  0.002864 -0.025930   141.0  \n",
       "3    0.034309  0.022692 -0.009362   206.0  \n",
       "4   -0.002592 -0.031991 -0.046641   135.0  \n",
       "..        ...       ...       ...     ...  \n",
       "437 -0.002592  0.031193  0.007207   178.0  \n",
       "438  0.034309 -0.018118  0.044485   104.0  \n",
       "439 -0.011080 -0.046879  0.015491   132.0  \n",
       "440  0.026560  0.044528 -0.025930   220.0  \n",
       "441 -0.039493 -0.004220  0.003064    57.0  \n",
       "\n",
       "[442 rows x 11 columns]"
      ]
     },
     "execution_count": 61,
     "metadata": {},
     "output_type": "execute_result"
    }
   ],
   "source": [
    "data = dataset.data\n",
    "df = pd.DataFrame(data, columns=dataset.feature_names)\n",
    "df['target']=dataset.target\n",
    "df"
   ]
  },
  {
   "cell_type": "code",
   "execution_count": 62,
   "metadata": {
    "colab": {
     "base_uri": "https://localhost:8080/"
    },
    "id": "6TLmBqWpbTQT",
    "outputId": "38a18f87-156d-4198-a8cc-f614c81f76c1"
   },
   "outputs": [
    {
     "name": "stdout",
     "output_type": "stream",
     "text": [
      "features number: 10\n",
      "median target value: 140.5\n",
      "number of target value > median target value: 221\n"
     ]
    }
   ],
   "source": [
    "print('features number:', len(dataset.feature_names))\n",
    "print('median target value:', df.target.median())\n",
    "print('number of target value > median target value:', len(df[df.target > df.target.median()]))"
   ]
  },
  {
   "cell_type": "code",
   "execution_count": 63,
   "metadata": {
    "colab": {
     "base_uri": "https://localhost:8080/",
     "height": 419
    },
    "id": "lWexljoQeZmC",
    "outputId": "f4f6a834-0946-4765-e810-7d3c1a043423"
   },
   "outputs": [
    {
     "data": {
      "text/html": [
       "\n",
       "  <div id=\"df-7cc77f7f-44c8-4390-bfb2-2eb9b86c2c61\">\n",
       "    <div class=\"colab-df-container\">\n",
       "      <div>\n",
       "<style scoped>\n",
       "    .dataframe tbody tr th:only-of-type {\n",
       "        vertical-align: middle;\n",
       "    }\n",
       "\n",
       "    .dataframe tbody tr th {\n",
       "        vertical-align: top;\n",
       "    }\n",
       "\n",
       "    .dataframe thead th {\n",
       "        text-align: right;\n",
       "    }\n",
       "</style>\n",
       "<table border=\"1\" class=\"dataframe\">\n",
       "  <thead>\n",
       "    <tr style=\"text-align: right;\">\n",
       "      <th></th>\n",
       "      <th>age</th>\n",
       "      <th>sex</th>\n",
       "      <th>bmi</th>\n",
       "      <th>bp</th>\n",
       "      <th>s1</th>\n",
       "      <th>s2</th>\n",
       "      <th>s3</th>\n",
       "      <th>s4</th>\n",
       "      <th>s5</th>\n",
       "      <th>s6</th>\n",
       "      <th>target</th>\n",
       "      <th>new_target</th>\n",
       "    </tr>\n",
       "  </thead>\n",
       "  <tbody>\n",
       "    <tr>\n",
       "      <th>0</th>\n",
       "      <td>0.038076</td>\n",
       "      <td>0.050680</td>\n",
       "      <td>0.061696</td>\n",
       "      <td>0.021872</td>\n",
       "      <td>-0.044223</td>\n",
       "      <td>-0.034821</td>\n",
       "      <td>-0.043401</td>\n",
       "      <td>-0.002592</td>\n",
       "      <td>0.019908</td>\n",
       "      <td>-0.017646</td>\n",
       "      <td>151.0</td>\n",
       "      <td>1</td>\n",
       "    </tr>\n",
       "    <tr>\n",
       "      <th>1</th>\n",
       "      <td>-0.001882</td>\n",
       "      <td>-0.044642</td>\n",
       "      <td>-0.051474</td>\n",
       "      <td>-0.026328</td>\n",
       "      <td>-0.008449</td>\n",
       "      <td>-0.019163</td>\n",
       "      <td>0.074412</td>\n",
       "      <td>-0.039493</td>\n",
       "      <td>-0.068330</td>\n",
       "      <td>-0.092204</td>\n",
       "      <td>75.0</td>\n",
       "      <td>0</td>\n",
       "    </tr>\n",
       "    <tr>\n",
       "      <th>2</th>\n",
       "      <td>0.085299</td>\n",
       "      <td>0.050680</td>\n",
       "      <td>0.044451</td>\n",
       "      <td>-0.005671</td>\n",
       "      <td>-0.045599</td>\n",
       "      <td>-0.034194</td>\n",
       "      <td>-0.032356</td>\n",
       "      <td>-0.002592</td>\n",
       "      <td>0.002864</td>\n",
       "      <td>-0.025930</td>\n",
       "      <td>141.0</td>\n",
       "      <td>1</td>\n",
       "    </tr>\n",
       "    <tr>\n",
       "      <th>3</th>\n",
       "      <td>-0.089063</td>\n",
       "      <td>-0.044642</td>\n",
       "      <td>-0.011595</td>\n",
       "      <td>-0.036656</td>\n",
       "      <td>0.012191</td>\n",
       "      <td>0.024991</td>\n",
       "      <td>-0.036038</td>\n",
       "      <td>0.034309</td>\n",
       "      <td>0.022692</td>\n",
       "      <td>-0.009362</td>\n",
       "      <td>206.0</td>\n",
       "      <td>1</td>\n",
       "    </tr>\n",
       "    <tr>\n",
       "      <th>4</th>\n",
       "      <td>0.005383</td>\n",
       "      <td>-0.044642</td>\n",
       "      <td>-0.036385</td>\n",
       "      <td>0.021872</td>\n",
       "      <td>0.003935</td>\n",
       "      <td>0.015596</td>\n",
       "      <td>0.008142</td>\n",
       "      <td>-0.002592</td>\n",
       "      <td>-0.031991</td>\n",
       "      <td>-0.046641</td>\n",
       "      <td>135.0</td>\n",
       "      <td>0</td>\n",
       "    </tr>\n",
       "    <tr>\n",
       "      <th>...</th>\n",
       "      <td>...</td>\n",
       "      <td>...</td>\n",
       "      <td>...</td>\n",
       "      <td>...</td>\n",
       "      <td>...</td>\n",
       "      <td>...</td>\n",
       "      <td>...</td>\n",
       "      <td>...</td>\n",
       "      <td>...</td>\n",
       "      <td>...</td>\n",
       "      <td>...</td>\n",
       "      <td>...</td>\n",
       "    </tr>\n",
       "    <tr>\n",
       "      <th>437</th>\n",
       "      <td>0.041708</td>\n",
       "      <td>0.050680</td>\n",
       "      <td>0.019662</td>\n",
       "      <td>0.059744</td>\n",
       "      <td>-0.005697</td>\n",
       "      <td>-0.002566</td>\n",
       "      <td>-0.028674</td>\n",
       "      <td>-0.002592</td>\n",
       "      <td>0.031193</td>\n",
       "      <td>0.007207</td>\n",
       "      <td>178.0</td>\n",
       "      <td>1</td>\n",
       "    </tr>\n",
       "    <tr>\n",
       "      <th>438</th>\n",
       "      <td>-0.005515</td>\n",
       "      <td>0.050680</td>\n",
       "      <td>-0.015906</td>\n",
       "      <td>-0.067642</td>\n",
       "      <td>0.049341</td>\n",
       "      <td>0.079165</td>\n",
       "      <td>-0.028674</td>\n",
       "      <td>0.034309</td>\n",
       "      <td>-0.018118</td>\n",
       "      <td>0.044485</td>\n",
       "      <td>104.0</td>\n",
       "      <td>0</td>\n",
       "    </tr>\n",
       "    <tr>\n",
       "      <th>439</th>\n",
       "      <td>0.041708</td>\n",
       "      <td>0.050680</td>\n",
       "      <td>-0.015906</td>\n",
       "      <td>0.017282</td>\n",
       "      <td>-0.037344</td>\n",
       "      <td>-0.013840</td>\n",
       "      <td>-0.024993</td>\n",
       "      <td>-0.011080</td>\n",
       "      <td>-0.046879</td>\n",
       "      <td>0.015491</td>\n",
       "      <td>132.0</td>\n",
       "      <td>0</td>\n",
       "    </tr>\n",
       "    <tr>\n",
       "      <th>440</th>\n",
       "      <td>-0.045472</td>\n",
       "      <td>-0.044642</td>\n",
       "      <td>0.039062</td>\n",
       "      <td>0.001215</td>\n",
       "      <td>0.016318</td>\n",
       "      <td>0.015283</td>\n",
       "      <td>-0.028674</td>\n",
       "      <td>0.026560</td>\n",
       "      <td>0.044528</td>\n",
       "      <td>-0.025930</td>\n",
       "      <td>220.0</td>\n",
       "      <td>1</td>\n",
       "    </tr>\n",
       "    <tr>\n",
       "      <th>441</th>\n",
       "      <td>-0.045472</td>\n",
       "      <td>-0.044642</td>\n",
       "      <td>-0.073030</td>\n",
       "      <td>-0.081414</td>\n",
       "      <td>0.083740</td>\n",
       "      <td>0.027809</td>\n",
       "      <td>0.173816</td>\n",
       "      <td>-0.039493</td>\n",
       "      <td>-0.004220</td>\n",
       "      <td>0.003064</td>\n",
       "      <td>57.0</td>\n",
       "      <td>0</td>\n",
       "    </tr>\n",
       "  </tbody>\n",
       "</table>\n",
       "<p>442 rows × 12 columns</p>\n",
       "</div>\n",
       "      <button class=\"colab-df-convert\" onclick=\"convertToInteractive('df-7cc77f7f-44c8-4390-bfb2-2eb9b86c2c61')\"\n",
       "              title=\"Convert this dataframe to an interactive table.\"\n",
       "              style=\"display:none;\">\n",
       "        \n",
       "  <svg xmlns=\"http://www.w3.org/2000/svg\" height=\"24px\"viewBox=\"0 0 24 24\"\n",
       "       width=\"24px\">\n",
       "    <path d=\"M0 0h24v24H0V0z\" fill=\"none\"/>\n",
       "    <path d=\"M18.56 5.44l.94 2.06.94-2.06 2.06-.94-2.06-.94-.94-2.06-.94 2.06-2.06.94zm-11 1L8.5 8.5l.94-2.06 2.06-.94-2.06-.94L8.5 2.5l-.94 2.06-2.06.94zm10 10l.94 2.06.94-2.06 2.06-.94-2.06-.94-.94-2.06-.94 2.06-2.06.94z\"/><path d=\"M17.41 7.96l-1.37-1.37c-.4-.4-.92-.59-1.43-.59-.52 0-1.04.2-1.43.59L10.3 9.45l-7.72 7.72c-.78.78-.78 2.05 0 2.83L4 21.41c.39.39.9.59 1.41.59.51 0 1.02-.2 1.41-.59l7.78-7.78 2.81-2.81c.8-.78.8-2.07 0-2.86zM5.41 20L4 18.59l7.72-7.72 1.47 1.35L5.41 20z\"/>\n",
       "  </svg>\n",
       "      </button>\n",
       "      \n",
       "  <style>\n",
       "    .colab-df-container {\n",
       "      display:flex;\n",
       "      flex-wrap:wrap;\n",
       "      gap: 12px;\n",
       "    }\n",
       "\n",
       "    .colab-df-convert {\n",
       "      background-color: #E8F0FE;\n",
       "      border: none;\n",
       "      border-radius: 50%;\n",
       "      cursor: pointer;\n",
       "      display: none;\n",
       "      fill: #1967D2;\n",
       "      height: 32px;\n",
       "      padding: 0 0 0 0;\n",
       "      width: 32px;\n",
       "    }\n",
       "\n",
       "    .colab-df-convert:hover {\n",
       "      background-color: #E2EBFA;\n",
       "      box-shadow: 0px 1px 2px rgba(60, 64, 67, 0.3), 0px 1px 3px 1px rgba(60, 64, 67, 0.15);\n",
       "      fill: #174EA6;\n",
       "    }\n",
       "\n",
       "    [theme=dark] .colab-df-convert {\n",
       "      background-color: #3B4455;\n",
       "      fill: #D2E3FC;\n",
       "    }\n",
       "\n",
       "    [theme=dark] .colab-df-convert:hover {\n",
       "      background-color: #434B5C;\n",
       "      box-shadow: 0px 1px 3px 1px rgba(0, 0, 0, 0.15);\n",
       "      filter: drop-shadow(0px 1px 2px rgba(0, 0, 0, 0.3));\n",
       "      fill: #FFFFFF;\n",
       "    }\n",
       "  </style>\n",
       "\n",
       "      <script>\n",
       "        const buttonEl =\n",
       "          document.querySelector('#df-7cc77f7f-44c8-4390-bfb2-2eb9b86c2c61 button.colab-df-convert');\n",
       "        buttonEl.style.display =\n",
       "          google.colab.kernel.accessAllowed ? 'block' : 'none';\n",
       "\n",
       "        async function convertToInteractive(key) {\n",
       "          const element = document.querySelector('#df-7cc77f7f-44c8-4390-bfb2-2eb9b86c2c61');\n",
       "          const dataTable =\n",
       "            await google.colab.kernel.invokeFunction('convertToInteractive',\n",
       "                                                     [key], {});\n",
       "          if (!dataTable) return;\n",
       "\n",
       "          const docLinkHtml = 'Like what you see? Visit the ' +\n",
       "            '<a target=\"_blank\" href=https://colab.research.google.com/notebooks/data_table.ipynb>data table notebook</a>'\n",
       "            + ' to learn more about interactive tables.';\n",
       "          element.innerHTML = '';\n",
       "          dataTable['output_type'] = 'display_data';\n",
       "          await google.colab.output.renderOutput(dataTable, element);\n",
       "          const docLink = document.createElement('div');\n",
       "          docLink.innerHTML = docLinkHtml;\n",
       "          element.appendChild(docLink);\n",
       "        }\n",
       "      </script>\n",
       "    </div>\n",
       "  </div>\n",
       "  "
      ],
      "text/plain": [
       "          age       sex       bmi        bp        s1        s2        s3  \\\n",
       "0    0.038076  0.050680  0.061696  0.021872 -0.044223 -0.034821 -0.043401   \n",
       "1   -0.001882 -0.044642 -0.051474 -0.026328 -0.008449 -0.019163  0.074412   \n",
       "2    0.085299  0.050680  0.044451 -0.005671 -0.045599 -0.034194 -0.032356   \n",
       "3   -0.089063 -0.044642 -0.011595 -0.036656  0.012191  0.024991 -0.036038   \n",
       "4    0.005383 -0.044642 -0.036385  0.021872  0.003935  0.015596  0.008142   \n",
       "..        ...       ...       ...       ...       ...       ...       ...   \n",
       "437  0.041708  0.050680  0.019662  0.059744 -0.005697 -0.002566 -0.028674   \n",
       "438 -0.005515  0.050680 -0.015906 -0.067642  0.049341  0.079165 -0.028674   \n",
       "439  0.041708  0.050680 -0.015906  0.017282 -0.037344 -0.013840 -0.024993   \n",
       "440 -0.045472 -0.044642  0.039062  0.001215  0.016318  0.015283 -0.028674   \n",
       "441 -0.045472 -0.044642 -0.073030 -0.081414  0.083740  0.027809  0.173816   \n",
       "\n",
       "           s4        s5        s6  target  new_target  \n",
       "0   -0.002592  0.019908 -0.017646   151.0           1  \n",
       "1   -0.039493 -0.068330 -0.092204    75.0           0  \n",
       "2   -0.002592  0.002864 -0.025930   141.0           1  \n",
       "3    0.034309  0.022692 -0.009362   206.0           1  \n",
       "4   -0.002592 -0.031991 -0.046641   135.0           0  \n",
       "..        ...       ...       ...     ...         ...  \n",
       "437 -0.002592  0.031193  0.007207   178.0           1  \n",
       "438  0.034309 -0.018118  0.044485   104.0           0  \n",
       "439 -0.011080 -0.046879  0.015491   132.0           0  \n",
       "440  0.026560  0.044528 -0.025930   220.0           1  \n",
       "441 -0.039493 -0.004220  0.003064    57.0           0  \n",
       "\n",
       "[442 rows x 12 columns]"
      ]
     },
     "execution_count": 63,
     "metadata": {},
     "output_type": "execute_result"
    }
   ],
   "source": [
    "target_median = df.target.median()\n",
    "df['new_target']= np.where(df.target < target_median, 0, 1)\n",
    "df"
   ]
  },
  {
   "cell_type": "markdown",
   "metadata": {
    "id": "YyqBEQXGq-B0"
   },
   "source": [
    "### Splitting the data\n",
    "It is best practice to have a training set (from which there is a rotating validation subset) and a test set. Our aim here is to (eventually) obtain the best accuracy we can on the test set (we'll do all our tuning on the training/validation sets, however.) \n",
    "\n",
    "**Split the dataset** into a train and a test set **\"70:30\"**, use **``random_state=0``**. The test set is set aside (untouched) for final evaluation, once hyperparameter optimization is complete. **[0.5]**\n",
    "\n",
    "**Only Split the dataset once within you notebook.** You should not use the `train_test_split` function more than once, regardless of the random state. Keep this in mind for your future projects as well."
   ]
  },
  {
   "cell_type": "code",
   "execution_count": 64,
   "metadata": {
    "colab": {
     "base_uri": "https://localhost:8080/"
    },
    "id": "A5equ6ied8eg",
    "outputId": "c3443059-7862-456b-e7fe-f4f760b95b2a"
   },
   "outputs": [
    {
     "data": {
      "text/plain": [
       "array([[ 0.01264814,  0.05068012,  0.00026092, ...,  0.05608052,\n",
       "         0.02405258,  0.03205916],\n",
       "       [-0.02730979, -0.04464164, -0.06656343, ..., -0.03949338,\n",
       "        -0.03581673, -0.00936191],\n",
       "       [ 0.00538306, -0.04464164,  0.05954058, ...,  0.05091436,\n",
       "        -0.00421986, -0.03007245],\n",
       "       ...,\n",
       "       [ 0.05987114, -0.04464164, -0.02129532, ...,  0.07120998,\n",
       "         0.07912108,  0.13561183],\n",
       "       [-0.07816532, -0.04464164, -0.0730303 , ..., -0.03949338,\n",
       "        -0.01811827, -0.08391984],\n",
       "       [ 0.04170844,  0.05068012,  0.07139652, ...,  0.03430886,\n",
       "         0.07341008,  0.08590655]])"
      ]
     },
     "execution_count": 64,
     "metadata": {},
     "output_type": "execute_result"
    }
   ],
   "source": [
    "### YOUR CODE HERE ###\n",
    "from sklearn.model_selection import train_test_split\n",
    "feature_data = dataset.data\n",
    "new_target_data = df.new_target.values\n",
    "x_train, x_test, y_train, y_test = train_test_split(feature_data, new_target_data, test_size=0.3, random_state=0)\n",
    "x_train"
   ]
  },
  {
   "cell_type": "markdown",
   "metadata": {
    "id": "U_jNtkfce9Eg"
   },
   "source": [
    "### Effect of Standardization (Visual)\n",
    "Use `seaborn.lmplot` ([help here](https://seaborn.pydata.org/generated/seaborn.lmplot.html)) to visualize a few features of the training set. Draw a plot where the x-axis is ``age``, the y-axis is ``bmi,`` and the color of each datapoint indicates its class.  **[0.5]**\n",
    "\n",
    "Standardizing the data is often critical in machine learning. Show a plot as above, but standardize the two features. What's different? **why do they look similar?** Based on your observation, what is the advantage of standardization? **[0.6]**\n",
    "\n",
    "\n"
   ]
  },
  {
   "cell_type": "markdown",
   "metadata": {
    "id": "sV2w5PSk-Vdr"
   },
   "source": [
    "The scales of the x-axis (age) and y-axis (bmi) in the following two figures are different, because through standardization, the data corresponding to the two features of age and bmi have the same scale. The two pictures look similar because we standardized both features at the same time, and the raw data scales of the two features are not much different. The benefit of standardization is to reduce the impact of the data of a certain feature being more dominant in the machine learning process due to its large magnitude."
   ]
  },
  {
   "cell_type": "code",
   "execution_count": 65,
   "metadata": {
    "colab": {
     "base_uri": "https://localhost:8080/",
     "height": 713
    },
    "id": "J684emSV8mJd",
    "outputId": "f2f796c8-530c-4988-9eeb-f45a89de4a81"
   },
   "outputs": [
    {
     "data": {
      "image/png": "[encoded data removed]",
      "text/plain": [
       "<Figure size 436.425x360 with 1 Axes>"
      ]
     },
     "metadata": {},
     "output_type": "display_data"
    },
    {
     "data": {
      "image/png": "[encoded data removed]",
      "text/plain": [
       "<Figure size 436.425x360 with 1 Axes>"
      ]
     },
     "metadata": {},
     "output_type": "display_data"
    }
   ],
   "source": [
    "### YOUR CODE HERE ###\n",
    "import seaborn as sns\n",
    "sns.set_theme(color_codes=True)\n",
    "#training set dataframe\n",
    "df_xy_train = pd.DataFrame(data=x_train, columns=dataset.feature_names)\n",
    "df_xy_train['new_target']=y_train\n",
    "#test set dataframe\n",
    "df_xy_test = pd.DataFrame(data=x_test, columns=dataset.feature_names)\n",
    "df_xy_test['new_target']=y_test\n",
    "\n",
    "plot_original = sns.lmplot(x=\"age\", y=\"bmi\", data=df_xy_train, hue=\"new_target\")\n",
    "\n",
    "from sklearn.preprocessing import StandardScaler\n",
    "scaler = StandardScaler().fit(x_train)\n",
    "x_standard = scaler.transform(x_train)\n",
    "#train set df after standard\n",
    "df_xy_train_standard = pd.DataFrame(data=x_standard , columns=dataset.feature_names)\n",
    "df_xy_train_standard['new_target'] = y_train\n",
    "\n",
    "plot_standard = sns.lmplot(x='age', y='bmi',data=df_xy_train_standard, hue=\"new_target\")\n",
    "\n",
    "\n",
    "\n"
   ]
  },
  {
   "cell_type": "markdown",
   "metadata": {
    "id": "aBmo0-W1yZFs"
   },
   "source": [
    "## Part 2: KNN Classifier without Standardization [2 Marks]\n",
    "Normally, standardizing data is a key step in preparing data for a KNN classifier. However, for educational purposes, let's first try to build a model without standardization. Let's create a KNN classifier to predict whether a patient has a diabetes severity that is less than the median or greater than the median. \n",
    "\n",
    "Follow these steps: \n",
    "\n",
    "1.   Train a KNN Classifier using cross-validation on the dataset. Sweep `k` (number of neighbours) from 1 to 100, and show a plot of the mean cross-validation accuracy vs `k`. **[1]**\n",
    "2.   What is the best `k`? What is the highest cross-validation accuracy? **[0.5]**\n",
    "3. Comment on  which ranges of `k` lead to underfitted or overfitted models (hint: compare training and validation curves!). **[0.5]**\n",
    "\n",
    "Answer:\n",
    "\n",
    "2. The best K is 15, The highest cross-validation accuracy is 75.43%.\n",
    "3. The overfitted k range is [1,14], and there is no underfitted k range.\n"
   ]
  },
  {
   "cell_type": "code",
   "execution_count": 66,
   "metadata": {
    "colab": {
     "base_uri": "https://localhost:8080/",
     "height": 419
    },
    "id": "cyEV-mVSAMaV",
    "outputId": "1ab95763-49cd-4367-9ae1-44e15bb92c57"
   },
   "outputs": [
    {
     "data": {
      "text/html": [
       "\n",
       "  <div id=\"df-079c271d-68e0-41f5-877a-b1b5854aba97\">\n",
       "    <div class=\"colab-df-container\">\n",
       "      <div>\n",
       "<style scoped>\n",
       "    .dataframe tbody tr th:only-of-type {\n",
       "        vertical-align: middle;\n",
       "    }\n",
       "\n",
       "    .dataframe tbody tr th {\n",
       "        vertical-align: top;\n",
       "    }\n",
       "\n",
       "    .dataframe thead th {\n",
       "        text-align: right;\n",
       "    }\n",
       "</style>\n",
       "<table border=\"1\" class=\"dataframe\">\n",
       "  <thead>\n",
       "    <tr style=\"text-align: right;\">\n",
       "      <th></th>\n",
       "      <th>mean_train_accuracy</th>\n",
       "      <th>mean_validation_accuracy</th>\n",
       "    </tr>\n",
       "  </thead>\n",
       "  <tbody>\n",
       "    <tr>\n",
       "      <th>1</th>\n",
       "      <td>1.000000</td>\n",
       "      <td>0.660180</td>\n",
       "    </tr>\n",
       "    <tr>\n",
       "      <th>2</th>\n",
       "      <td>0.813922</td>\n",
       "      <td>0.611846</td>\n",
       "    </tr>\n",
       "    <tr>\n",
       "      <th>3</th>\n",
       "      <td>0.841423</td>\n",
       "      <td>0.689318</td>\n",
       "    </tr>\n",
       "    <tr>\n",
       "      <th>4</th>\n",
       "      <td>0.767811</td>\n",
       "      <td>0.656954</td>\n",
       "    </tr>\n",
       "    <tr>\n",
       "      <th>5</th>\n",
       "      <td>0.783169</td>\n",
       "      <td>0.689318</td>\n",
       "    </tr>\n",
       "    <tr>\n",
       "      <th>...</th>\n",
       "      <td>...</td>\n",
       "      <td>...</td>\n",
       "    </tr>\n",
       "    <tr>\n",
       "      <th>96</th>\n",
       "      <td>0.738674</td>\n",
       "      <td>0.721629</td>\n",
       "    </tr>\n",
       "    <tr>\n",
       "      <th>97</th>\n",
       "      <td>0.737054</td>\n",
       "      <td>0.734638</td>\n",
       "    </tr>\n",
       "    <tr>\n",
       "      <th>98</th>\n",
       "      <td>0.737051</td>\n",
       "      <td>0.728133</td>\n",
       "    </tr>\n",
       "    <tr>\n",
       "      <th>99</th>\n",
       "      <td>0.737864</td>\n",
       "      <td>0.731465</td>\n",
       "    </tr>\n",
       "    <tr>\n",
       "      <th>100</th>\n",
       "      <td>0.736245</td>\n",
       "      <td>0.734691</td>\n",
       "    </tr>\n",
       "  </tbody>\n",
       "</table>\n",
       "<p>100 rows × 2 columns</p>\n",
       "</div>\n",
       "      <button class=\"colab-df-convert\" onclick=\"convertToInteractive('df-079c271d-68e0-41f5-877a-b1b5854aba97')\"\n",
       "              title=\"Convert this dataframe to an interactive table.\"\n",
       "              style=\"display:none;\">\n",
       "        \n",
       "  <svg xmlns=\"http://www.w3.org/2000/svg\" height=\"24px\"viewBox=\"0 0 24 24\"\n",
       "       width=\"24px\">\n",
       "    <path d=\"M0 0h24v24H0V0z\" fill=\"none\"/>\n",
       "    <path d=\"M18.56 5.44l.94 2.06.94-2.06 2.06-.94-2.06-.94-.94-2.06-.94 2.06-2.06.94zm-11 1L8.5 8.5l.94-2.06 2.06-.94-2.06-.94L8.5 2.5l-.94 2.06-2.06.94zm10 10l.94 2.06.94-2.06 2.06-.94-2.06-.94-.94-2.06-.94 2.06-2.06.94z\"/><path d=\"M17.41 7.96l-1.37-1.37c-.4-.4-.92-.59-1.43-.59-.52 0-1.04.2-1.43.59L10.3 9.45l-7.72 7.72c-.78.78-.78 2.05 0 2.83L4 21.41c.39.39.9.59 1.41.59.51 0 1.02-.2 1.41-.59l7.78-7.78 2.81-2.81c.8-.78.8-2.07 0-2.86zM5.41 20L4 18.59l7.72-7.72 1.47 1.35L5.41 20z\"/>\n",
       "  </svg>\n",
       "      </button>\n",
       "      \n",
       "  <style>\n",
       "    .colab-df-container {\n",
       "      display:flex;\n",
       "      flex-wrap:wrap;\n",
       "      gap: 12px;\n",
       "    }\n",
       "\n",
       "    .colab-df-convert {\n",
       "      background-color: #E8F0FE;\n",
       "      border: none;\n",
       "      border-radius: 50%;\n",
       "      cursor: pointer;\n",
       "      display: none;\n",
       "      fill: #1967D2;\n",
       "      height: 32px;\n",
       "      padding: 0 0 0 0;\n",
       "      width: 32px;\n",
       "    }\n",
       "\n",
       "    .colab-df-convert:hover {\n",
       "      background-color: #E2EBFA;\n",
       "      box-shadow: 0px 1px 2px rgba(60, 64, 67, 0.3), 0px 1px 3px 1px rgba(60, 64, 67, 0.15);\n",
       "      fill: #174EA6;\n",
       "    }\n",
       "\n",
       "    [theme=dark] .colab-df-convert {\n",
       "      background-color: #3B4455;\n",
       "      fill: #D2E3FC;\n",
       "    }\n",
       "\n",
       "    [theme=dark] .colab-df-convert:hover {\n",
       "      background-color: #434B5C;\n",
       "      box-shadow: 0px 1px 3px 1px rgba(0, 0, 0, 0.15);\n",
       "      filter: drop-shadow(0px 1px 2px rgba(0, 0, 0, 0.3));\n",
       "      fill: #FFFFFF;\n",
       "    }\n",
       "  </style>\n",
       "\n",
       "      <script>\n",
       "        const buttonEl =\n",
       "          document.querySelector('#df-079c271d-68e0-41f5-877a-b1b5854aba97 button.colab-df-convert');\n",
       "        buttonEl.style.display =\n",
       "          google.colab.kernel.accessAllowed ? 'block' : 'none';\n",
       "\n",
       "        async function convertToInteractive(key) {\n",
       "          const element = document.querySelector('#df-079c271d-68e0-41f5-877a-b1b5854aba97');\n",
       "          const dataTable =\n",
       "            await google.colab.kernel.invokeFunction('convertToInteractive',\n",
       "                                                     [key], {});\n",
       "          if (!dataTable) return;\n",
       "\n",
       "          const docLinkHtml = 'Like what you see? Visit the ' +\n",
       "            '<a target=\"_blank\" href=https://colab.research.google.com/notebooks/data_table.ipynb>data table notebook</a>'\n",
       "            + ' to learn more about interactive tables.';\n",
       "          element.innerHTML = '';\n",
       "          dataTable['output_type'] = 'display_data';\n",
       "          await google.colab.output.renderOutput(dataTable, element);\n",
       "          const docLink = document.createElement('div');\n",
       "          docLink.innerHTML = docLinkHtml;\n",
       "          element.appendChild(docLink);\n",
       "        }\n",
       "      </script>\n",
       "    </div>\n",
       "  </div>\n",
       "  "
      ],
      "text/plain": [
       "     mean_train_accuracy  mean_validation_accuracy\n",
       "1               1.000000                  0.660180\n",
       "2               0.813922                  0.611846\n",
       "3               0.841423                  0.689318\n",
       "4               0.767811                  0.656954\n",
       "5               0.783169                  0.689318\n",
       "..                   ...                       ...\n",
       "96              0.738674                  0.721629\n",
       "97              0.737054                  0.734638\n",
       "98              0.737051                  0.728133\n",
       "99              0.737864                  0.731465\n",
       "100             0.736245                  0.734691\n",
       "\n",
       "[100 rows x 2 columns]"
      ]
     },
     "execution_count": 66,
     "metadata": {},
     "output_type": "execute_result"
    }
   ],
   "source": [
    "### YOUR CODE HERE ###\n",
    "from sklearn import neighbors\n",
    "from sklearn.model_selection import cross_validate\n",
    "import matplotlib.pyplot as plt\n",
    "train_scores = np.ones(100)\n",
    "test_scores = np.ones(100)\n",
    "x_axis = range(1,101)\n",
    "train_result = np.ones(200).reshape(100,2)\n",
    "df_train=pd.DataFrame(data=train_result, columns = [\"mean_train_accuracy\", \n",
    "                                                     'mean_validation_accuracy'], index=x_axis)\n",
    "k=1\n",
    "while k <= 100:\n",
    "  knn = neighbors.KNeighborsClassifier(n_neighbors = k )\n",
    "  scores = cross_validate(knn, x_train, y_train, cv=5, return_train_score=True)\n",
    "  train_scores[k-1] = scores['train_score'].mean()\n",
    "  test_scores[k-1] = scores['test_score'].mean()\n",
    "  df_train.at[k, \"mean_train_accuracy\"]= train_scores[k-1]\n",
    "  df_train.at[k, \"mean_validation_accuracy\"]= test_scores[k-1]\n",
    "  k = k+1\n",
    "df_train"
   ]
  },
  {
   "cell_type": "code",
   "execution_count": 67,
   "metadata": {
    "colab": {
     "base_uri": "https://localhost:8080/"
    },
    "id": "H18ur0dk5Dpt",
    "outputId": "4dd33ffb-162f-4d43-ae8a-4c92b8c92406"
   },
   "outputs": [
    {
     "name": "stdout",
     "output_type": "stream",
     "text": [
      "best k is: 15\n",
      "highest cross-validation accuracy: 0.7542570068746695\n"
     ]
    }
   ],
   "source": [
    "best_k = df_train[\"mean_validation_accuracy\"].idxmax()\n",
    "best_validate_accuracy = df_train.loc[best_k, \"mean_validation_accuracy\"]\n",
    "print(\"best k is:\", best_k)\n",
    "print(\"highest cross-validation accuracy:\", best_validate_accuracy)"
   ]
  },
  {
   "cell_type": "code",
   "execution_count": 68,
   "metadata": {
    "colab": {
     "base_uri": "https://localhost:8080/",
     "height": 285
    },
    "id": "Z76IVg97Svt1",
    "outputId": "9b349a9b-0af3-4d57-d0d8-2849fe9b055d"
   },
   "outputs": [
    {
     "data": {
      "image/png": "[encoded data removed]",
      "text/plain": [
       "<Figure size 432x288 with 1 Axes>"
      ]
     },
     "metadata": {},
     "output_type": "display_data"
    }
   ],
   "source": [
    "plt.plot(x_axis, train_scores, 'g', label='Train Accuracy')\n",
    "plt.plot(x_axis, test_scores, 'y', label='Test Accuracy')\n",
    "plt.legend()\n",
    "plt.xlabel('k')\n",
    "plt.ylabel('Accuracy')\n",
    "plt.show()"
   ]
  },
  {
   "cell_type": "markdown",
   "metadata": {
    "id": "VCyFm5S3srCO"
   },
   "source": [
    "## Part 3: Feature Selection [3 Marks]\n",
    "In this part, we aim to investigate the importance of each feature on the final classification accuracy. \n",
    "If we want to try every possible combination of features, we would have to test  $2^F$ different cases,  where F is the number of features, and in each case, we have to do a hyperparameter search (finding K, in KNN using cross-validation). That will take days!. \n",
    "\n",
    "To find more important features we will use a decision tree. based on a decision tree we can compute feature importance that is a metric for our feature selection (code is provided below).\n",
    "\n",
    "You can use [this link](https://machinelearningmastery.com/calculate-feature-importance-with-python/\n",
    ") to get familiar with extracting the feature impotance order of machine learning algorithms in Python.\n",
    "\n",
    "After we identified and removed the least important feature and evaluated a new KNN model on the new set of features, if the stop conditions (see step 7 below) are not met, we need to repeat the process and remove another feature.\n",
    "\n",
    "\n",
    "Design a function ( `Feature_selector`) that accepts your dataset (X_train , y_train) and a threshold as inputs and: **[1]**\n",
    "1. Fits a decision tree classifier on the training set.\n",
    "\n",
    "2. Extracts the feature importance order of the decision tree model.\n",
    "\n",
    "3. Removes the least important feature based on step 2. \n",
    "4. Then, a KNN model is trained on the remaining features. The number of neighbors (`k`) for each KNN model should be tuned using a 5-fold cross-validation.\n",
    "5. Store the best `mean cross-validation` score and the corresponding `k` (number of neighbours) value in two lists.\n",
    "6. Go back to step 3 and follow all the steps until you meet the stop condition (step 7). \n",
    " \n",
    "7. We will stop this process when (1) there is only one feature left, or (2) our cross-validation accuracy is dropped significantly compared to a model that uses all the features. In this function, we accept a threshold as an input argument. For example, if threshold=0.95 we do not continue removing features if our mean cross-validation accuracy after tuning `k` is bellow **0.95 $\\times$ Full Feature cross-validation accuracy**.\n",
    "\n",
    "8. Your function returns the list of removed features, and the corresponding mean cross-validation accuracy and `k` value when a feature was removed.\n",
    "\n",
    "* Visualize your results by plotting the mean cross-validation accuracy (with a tuned `k` on y axis) vs. the on the number of features (x axis). This plot describes: what is the best cv score with 1 feature, 2 features, 3 features ... and all the features. **[0.5]**\n",
    "\n",
    "* Plot the best value of `k` (y-axis) vs. the number of features. This plot explains the trend of number of neighbours with respect to the number of features.  **[0.5]**\n",
    "\n",
    "* State what is the number of essential features for classification and justify your answer. **[1]**\n",
    "  \n",
    "  \n",
    "\n",
    "\n",
    "\n",
    "\n",
    "\n",
    "\n",
    "\n",
    " "
   ]
  },
  {
   "cell_type": "markdown",
   "metadata": {
    "id": "ON981Gq7JlAQ"
   },
   "source": [
    "Answer:\n",
    "\n",
    "**The number of essential features for classification can be 9, because when we remove the feature named s4, the accuracy is higher than the full feature, reaching 76.72%. And 76.72% is the most accurate result among all cross validation results.**"
   ]
  },
  {
   "cell_type": "markdown",
   "metadata": {
    "id": "LPcG6_UIdAaT"
   },
   "source": [
    "You can use the following piece of code to start training a decision tree classifier and obtain its feature importance order. \n",
    "```\n",
    "from sklearn import tree\n",
    "dt = tree.DecisionTreeClassifier()\n",
    "dt.fit(X_train,y_train)\n",
    "importance = dt.feature_importances_\n",
    "```\n"
   ]
  },
  {
   "cell_type": "code",
   "execution_count": 69,
   "metadata": {
    "colab": {
     "base_uri": "https://localhost:8080/"
    },
    "id": "oiFUWWnE0QVc",
    "outputId": "a449f847-990d-4a0a-efad-ae4623d91600"
   },
   "outputs": [
    {
     "name": "stdout",
     "output_type": "stream",
     "text": [
      "[0.08794803 0.01849458 0.12301773 0.08551498 0.0669466  0.13936173\n",
      " 0.1027635  0.0086308  0.29143688 0.07588517]\n"
     ]
    },
    {
     "data": {
      "text/plain": [
       "numpy.ndarray"
      ]
     },
     "execution_count": 69,
     "metadata": {},
     "output_type": "execute_result"
    }
   ],
   "source": [
    "from sklearn.tree import DecisionTreeClassifier\n",
    "from sklearn import feature_selection\n",
    "from matplotlib import pyplot\n",
    "dt = DecisionTreeClassifier(random_state=0)\n",
    "dt.fit(x_train,y_train)\n",
    "importance = dt.feature_importances_\n",
    "print(importance)\n",
    "type(importance)"
   ]
  },
  {
   "cell_type": "code",
   "execution_count": 70,
   "metadata": {
    "id": "SHxT6vQnEsbZ"
   },
   "outputs": [],
   "source": [
    "def Feature_selector (x_train , y_train , tr=0.95):\n",
    "### YOUR CODE HERE ###\n",
    "  x_train_fs = x_train.copy()\n",
    "  original_k=15\n",
    "  original_cross_validate_accuracy=0.7542570068746695\n",
    "  #k list \n",
    "  best_k_list = []\n",
    "  best_k_list.append(original_k)\n",
    "  #accuracy list\n",
    "  best_mean_cross_validation_list = []\n",
    "  best_mean_cross_validation_list.append(original_cross_validate_accuracy)\n",
    "  #feature removed list\n",
    "  deleted_feature_list = []\n",
    "  feature_name = dataset.feature_names\n",
    "  #original set up for loop\n",
    "  original_feature_num = len(dataset.feature_names)\n",
    "  feature_num = original_feature_num\n",
    "  best_validate_accuracy = original_cross_validate_accuracy\n",
    "\n",
    "  #step 1-2\n",
    "  dt = DecisionTreeClassifier(random_state=0)\n",
    "  dt.fit(x_train_fs,y_train)\n",
    "  importance = dt.feature_importances_\n",
    "  \n",
    "  #step 3-8\n",
    "  while (feature_num > 1) and (best_validate_accuracy >= tr*original_cross_validate_accuracy):\n",
    "    #3 update importance\n",
    "    min_index = np.argmin(importance)\n",
    "    importance = np.delete(importance, min_index)\n",
    "    #update x train set\n",
    "    x_train_fs = np.delete(x_train_fs, min_index, axis=1)\n",
    "    #update feature & feature removed list\n",
    "    deleted_feature = feature_name[min_index]\n",
    "    deleted_feature_list.append(deleted_feature)\n",
    "    feature_name = np.delete(feature_name, min_index)\n",
    "    feature_num = len(feature_name)\n",
    "    #4 knn model\n",
    "    best_k, best_validate_accuracy = KNN_find_best(x_train_fs, y_train)\n",
    "    #5 update k list & accuracy list\n",
    "    best_k_list.append(best_k)\n",
    "    best_mean_cross_validation_list.append(best_validate_accuracy)\n",
    "\n",
    "  return best_k_list, best_mean_cross_validation_list, deleted_feature_list\n",
    "\n",
    "\n",
    "def KNN_find_best (x_train, y_train):\n",
    "  train_scores = np.ones(100)\n",
    "  test_scores = np.ones(100)\n",
    "  x_axis = range(1,101)\n",
    "  train_result = np.ones(200).reshape(100,2)\n",
    "  df_train=pd.DataFrame(data=train_result, columns = [\"mean_train_accuracy\", \n",
    "                                                     'mean_validation_accuracy'], index=x_axis)\n",
    "  k=1\n",
    "  while k <= 100:\n",
    "    knn = neighbors.KNeighborsClassifier(n_neighbors = k )\n",
    "    scores = cross_validate(knn, x_train, y_train, cv=5, return_train_score=True)\n",
    "    train_scores[k-1] = scores['train_score'].mean()\n",
    "    test_scores[k-1] = scores['test_score'].mean()\n",
    "    df_train.at[k, \"mean_train_accuracy\"]= train_scores[k-1]\n",
    "    df_train.at[k, \"mean_validation_accuracy\"]= test_scores[k-1]\n",
    "    k = k+1\n",
    "  best_k = df_train[\"mean_validation_accuracy\"].idxmax()\n",
    "  best_validate_accuracy = df_train.loc[best_k, \"mean_validation_accuracy\"]\n",
    "  \n",
    "  return best_k, best_validate_accuracy\n",
    "\n",
    "\n"
   ]
  },
  {
   "cell_type": "code",
   "execution_count": 71,
   "metadata": {
    "colab": {
     "base_uri": "https://localhost:8080/"
    },
    "id": "Q8MNVmNydf9b",
    "outputId": "0377f7a1-0109-4f42-d8d3-f2f187cff257"
   },
   "outputs": [
    {
     "name": "stdout",
     "output_type": "stream",
     "text": [
      "best k list: [15, 25, 91, 99, 73, 7, 19, 60, 82, 85]\n",
      "best cv list: [0.7542570068746695, 0.7671602326811211, 0.7539925965097833, 0.7540983606557378, 0.7574299312533052, 0.7540454785827604, 0.7637757800105763, 0.7540983606557378, 0.7248545742993127, 0.7248016922263353]\n",
      "deleted feature list: ['s4', 'sex', 's1', 's6', 'bp', 'age', 's3', 'bmi', 's2']\n"
     ]
    }
   ],
   "source": [
    "best_k, best_mean_cross_validation_list, deleted_feature_list = Feature_selector(x_train , y_train , tr=0.95)\n",
    "print(\"best k list:\", best_k) \n",
    "print(\"best cv list:\", best_mean_cross_validation_list)     \n",
    "print(\"deleted feature list:\",  deleted_feature_list)   \n"
   ]
  },
  {
   "cell_type": "code",
   "execution_count": 72,
   "metadata": {
    "colab": {
     "base_uri": "https://localhost:8080/",
     "height": 553
    },
    "id": "_jCrpKX4CU6w",
    "outputId": "da8f52ba-9de1-4d87-fa6a-c152a50da4e5"
   },
   "outputs": [
    {
     "data": {
      "image/png": "[encoded data removed]",
      "text/plain": [
       "<Figure size 432x288 with 1 Axes>"
      ]
     },
     "metadata": {},
     "output_type": "display_data"
    },
    {
     "data": {
      "image/png": "[encoded data removed]",
      "text/plain": [
       "<Figure size 432x288 with 1 Axes>"
      ]
     },
     "metadata": {},
     "output_type": "display_data"
    }
   ],
   "source": [
    "axis = range(1,11)\n",
    "best_k_list_re = best_k[::-1]  \n",
    "best_mean_cross_validation_list_re = best_mean_cross_validation_list[::-1]\n",
    "\n",
    "plt.plot(axis, best_mean_cross_validation_list_re, 'g', label='Cross Validation Accuracy')\n",
    "plt.xlabel('Number of Features')\n",
    "plt.ylabel('Cross Validate Accuracy')\n",
    "plt.show()\n",
    "\n",
    "plt.plot(axis, best_k_list_re, 'y', label='Best K')\n",
    "plt.xlabel('Number of Features')\n",
    "plt.ylabel('Best k')\n",
    "plt.show()"
   ]
  },
  {
   "cell_type": "markdown",
   "metadata": {
    "id": "GTXjb1sWmDZL"
   },
   "source": [
    "## Part 4: Standardization [1 Marks]\n",
    "\n",
    "Standardizing the data usually means scaling our data to have a mean of zero and a standard deviation of one. \n",
    "\n",
    "**Note:** When we standardize a dataset, do we care if the data points are in our training set or test set? Yes! The training set is available for us to train a model - we can use it however we want. The test set, however, represents a subset of data that is not available for us during training. For example, the test set can represent the data that someone who bought our model would use to see how the model performs (which they are not willing to share with us).\n",
    "Therefore, we cannot compute the mean or standard deviation of the whole dataset to standardize it - we can only calculate the mean and standard deviation of the training set. However, when we sell a model to someone, we can say what our scalers (mean and standard deviation of our training set) was. They can scale their data (test set) with our training set's mean and standard deviation. Of course, there is no guarantee that the test set would have a mean of zero and a standard deviation of one, but it should work fine.\n",
    "\n",
    "**To summarize: We fit the StandardScaler only on the training set. We transform both training and test sets with that scaler.**\n",
    "\n",
    "1. Standardize the training  and test data ([Help](https://scikit-learn.org/stable/modules/preprocessing.html)) \n",
    "\n",
    "2. Call your ``Feature_selector`` function on the standardized training data with a threshold of 95\\%. \n",
    " * Plot the Cross validation accuracy when we have the standardized data (this part) and the original training data (last part) vs. the Number of features in a single plot (to compare them easily).\n",
    "\n",
    "3. Discuss how standardization affected your model and its performance? \n"
   ]
  },
  {
   "cell_type": "markdown",
   "metadata": {
    "id": "Ei30OeLwCkAh"
   },
   "source": [
    "Answer:\n",
    "\n",
    "In this case, standardization did not significantly improve the accuracy of the model. After removing the feature named \"s4\", the accuracy of the 9 features is still the highest, at 76.38%, but it is slightly lower than the Cross Validation Accuracy 76.72% using the original data. But a slight change in accuracy will not affect our choice, we can still use the other 9 features after excluding ''s4'' for machine learning, because this is still the most accurate result. It is worth noting that after standardization, if the four features \"s4\", \"sex\", \"s1\", and \"s6\" are removed, the accuracy corresponding to the remaining 6 features increases from 75.41% to 76.38%. . Similar accuracies were obtained using either 6 or 9 features. After standardization, we can also choose 6 features if we want.\n",
    "\n",
    "In general, the data scale of different features in the original data will not have a great impact on the accuracy of machine learning, and the accuracy of using the original data is even higher."
   ]
  },
  {
   "cell_type": "code",
   "execution_count": 73,
   "metadata": {
    "colab": {
     "base_uri": "https://localhost:8080/",
     "height": 356
    },
    "id": "xAwAGR6_2bu3",
    "outputId": "bb00c769-f275-46a0-f100-1c63b95e364b"
   },
   "outputs": [
    {
     "name": "stdout",
     "output_type": "stream",
     "text": [
      "best k list sd: [15, 15, 90, 24, 77, 7, 41, 60, 28, 85]\n",
      "best cv list sd: [0.7542570068746695, 0.7638286620835537, 0.7539925965097832, 0.7573241671073507, 0.7638286620835537, 0.7540454785827604, 0.7605499735589636, 0.7540983606557378, 0.7281332628239026, 0.7248016922263353]\n",
      "deleted feature list sd: ['s4', 'sex', 's1', 's6', 'bp', 'age', 's3', 'bmi', 's2']\n"
     ]
    },
    {
     "data": {
      "image/png": "[encoded data removed]",
      "text/plain": [
       "<Figure size 432x288 with 1 Axes>"
      ]
     },
     "metadata": {},
     "output_type": "display_data"
    }
   ],
   "source": [
    "### YOUR CODE HERE ###\n",
    "from sklearn.preprocessing import StandardScaler\n",
    "#standardize train set & test set\n",
    "train_scaler = StandardScaler()\n",
    "x_train_scaled = train_scaler.fit_transform(x_train)\n",
    "x_test_scaled = train_scaler.fit_transform(x_test)\n",
    "\n",
    "#plot\n",
    "best_k_sd, best_mean_cross_validation_list_sd, deleted_feature_list_sd = Feature_selector(x_train_scaled , y_train , tr=0.95)\n",
    "print(\"best k list sd:\", best_k_sd) \n",
    "print(\"best cv list sd:\", best_mean_cross_validation_list_sd)     \n",
    "print(\"deleted feature list sd:\",  deleted_feature_list_sd)\n",
    "axis = range(1,11)  \n",
    "best_mean_cross_validation_list_sd_re = best_mean_cross_validation_list_sd[::-1]\n",
    "\n",
    "plt.plot(axis, best_mean_cross_validation_list_sd_re, 'g', label='Standardized)')\n",
    "plt.plot(axis, best_mean_cross_validation_list_re, 'y', label='Original')\n",
    "plt.legend()\n",
    "plt.xlabel('Feature Number')\n",
    "plt.ylabel('Cross Validation Accuracy')\n",
    "plt.show()                        \n",
    "\n"
   ]
  },
  {
   "cell_type": "markdown",
   "metadata": {
    "id": "HdmuHF4kGH5M"
   },
   "source": [
    "## Part 5: Decision Tree Classifier [1 Mark]\n",
    "\n",
    "Train a decision tree classifier on the standardized dataset (read the [documentation](https://scikit-learn.org/stable/modules/generated/sklearn.tree.DecisionTreeClassifier.html) and check the example there.) Tune the `max_depth` and `min_samples_split` parameters of the tree using cross-validation (CV).\n",
    " * Compare the decision tree's performance (mean CV score) with KNN, both using all the features. \n"
   ]
  },
  {
   "cell_type": "markdown",
   "metadata": {
    "id": "qBAW5JJZJYxv"
   },
   "source": [
    "Answer:\n",
    "\n",
    "Under the condition of using all features, the optimal setting of Decision Tree is depth=2, min samples split=2, which will obtain the highest accuracy of 73.13%. If a standardized dataset is used, the KNN model achieves a maximum accuracy of 75.42% at k=13. If the original dataset is used, the KNN model achieves a maximum accuracy of 75.43% at k=15.\n",
    "\n",
    "Overall, the KNN model achieves higher accuracy than the Decision Tree model."
   ]
  },
  {
   "cell_type": "code",
   "execution_count": 74,
   "metadata": {
    "colab": {
     "base_uri": "https://localhost:8080/"
    },
    "id": "laYRhTK4Kytl",
    "outputId": "9fb0de23-78cd-40ff-ceb3-935c2ac619f8"
   },
   "outputs": [
    {
     "name": "stdout",
     "output_type": "stream",
     "text": [
      "Max Accuracy of Decision Tree =  0.7313061872025385\n",
      "Best Depth =  2\n",
      "Min Samples Split =  2\n"
     ]
    }
   ],
   "source": [
    "### YOUR CODE HERE ###\n",
    "all_scores = []\n",
    "for depth in range(1, 20):\n",
    "    scores_list = []\n",
    "    for split in range(2, 20):\n",
    "        dt = DecisionTreeClassifier(splitter='best', max_depth=depth, min_samples_split=split, random_state=0)\n",
    "        scores = cross_validate(dt, x_train_scaled, y_train, cv=5, return_train_score=True)\n",
    "        scores_list.append(scores['test_score'].mean())\n",
    "    all_scores.append(scores_list)\n",
    "\n",
    "all_scores = np.array(all_scores)\n",
    "highest_score_index = np.unravel_index(np.argmax(all_scores), all_scores.shape)\n",
    "best_depth, best_split = highest_score_index[0] + 1, highest_score_index[1] + 2\n",
    "highest_score = all_scores[highest_score_index]\n",
    "\n",
    "print(\"Max Accuracy of Decision Tree = \", highest_score)\n",
    "print(\"Best Depth = \", best_depth)\n",
    "print(\"Min Samples Split = \", best_split)\n"
   ]
  },
  {
   "cell_type": "code",
   "execution_count": 75,
   "metadata": {
    "colab": {
     "base_uri": "https://localhost:8080/"
    },
    "id": "CbgzDY6N5Y_t",
    "outputId": "293ab179-b9ac-4205-acb5-daaadb2dab1c"
   },
   "outputs": [
    {
     "name": "stdout",
     "output_type": "stream",
     "text": [
      "KNN best k with standardized dataset: 13\n",
      "KNN Accuracy with standardized dataset: 0.754151242728715\n"
     ]
    }
   ],
   "source": [
    "KNN_best_k_scaled, KNN_best_validate_scaled = KNN_find_best (x_train_scaled, y_train)\n",
    "print(\"KNN best k with standardized dataset:\", KNN_best_k_scaled)\n",
    "print(\"KNN Accuracy with standardized dataset:\", KNN_best_validate_scaled)"
   ]
  },
  {
   "cell_type": "code",
   "execution_count": 76,
   "metadata": {
    "colab": {
     "base_uri": "https://localhost:8080/"
    },
    "id": "P4C1hnkM8Ids",
    "outputId": "6c86a3bd-4993-4837-9574-66b923dd151b"
   },
   "outputs": [
    {
     "name": "stdout",
     "output_type": "stream",
     "text": [
      "KNN best k with original dataset: 15\n",
      "KNN Accuracy with original dataset: 0.7542570068746695\n"
     ]
    }
   ],
   "source": [
    "KNN_best_k, KNN_best_validate = KNN_find_best (x_train, y_train)\n",
    "print(\"KNN best k with original dataset:\", KNN_best_k)\n",
    "print(\"KNN Accuracy with original dataset:\", KNN_best_validate)"
   ]
  },
  {
   "cell_type": "markdown",
   "metadata": {
    "id": "k7QjKjHn2TZR"
   },
   "source": [
    "## Part 6: Test Data [0.5 Mark]\n",
    "\n",
    "Now that you've created several models, pick your best one (highest CV accuracy) and apply it to the test dataset you had initially set aside. Discuss your results."
   ]
  },
  {
   "cell_type": "markdown",
   "metadata": {
    "id": "WyzxPPkoJr_b"
   },
   "source": [
    "Answer:\n",
    "\n",
    "After removing feature \"s4\", use 9 features unstandardized dataset in KNN model with k=25 will get the highest accuracy. After testing the model using the test set with the feature “s4” deleted, we obtained a prediction accuracy of 79.7% for the KNN model testing."
   ]
  },
  {
   "cell_type": "code",
   "execution_count": 77,
   "metadata": {
    "colab": {
     "base_uri": "https://localhost:8080/"
    },
    "id": "5J4szE_y_4iD",
    "outputId": "1dadd4f0-a85f-4102-fd49-0583d1b4a759"
   },
   "outputs": [
    {
     "name": "stdout",
     "output_type": "stream",
     "text": [
      "Accuracy =  0.7969924812030075\n"
     ]
    }
   ],
   "source": [
    "### YOUR CODE HERE ###\n",
    "#Use 9 features unstandardized dataset in KNN model with K=25\n",
    "from sklearn.metrics import accuracy_score\n",
    "df_x_train=pd.DataFrame(data=x_train, columns=dataset.feature_names)\n",
    "df_x_train_9 =df_x_train.drop(\"s4\", axis=1)\n",
    "\n",
    "df_x_test=pd.DataFrame(data=x_test, columns=dataset.feature_names)\n",
    "df_x_test_9 =df_x_test.drop(\"s4\", axis=1)\n",
    "\n",
    "knn = neighbors.KNeighborsClassifier(n_neighbors=25)\n",
    "knn = knn.fit(df_x_train_9, y_train)\n",
    "\n",
    "y_pred = knn.predict(df_x_test_9)\n",
    "\n",
    "accuracy = accuracy_score(y_test, y_pred)\n",
    "\n",
    "\n",
    "print(\"Accuracy = \", accuracy)"
   ]
  },
  {
   "cell_type": "markdown",
   "metadata": {
    "id": "yhCf82AOe3IS"
   },
   "source": [
    "References:\n",
    "\n",
    "https://towardsdatascience.com/decision-trees-in-machine-learning-641b9c4e8052\n",
    "\n",
    "https://www.analyticsvidhya.com/blog/2021/02/machine-learning-101-decision-tree-algorithm-for-classification/"
   ]
  }
 ],
 "metadata": {
  "colab": {
   "provenance": []
  },
  "kernelspec": {
   "display_name": "Python 3 (ipykernel)",
   "language": "python",
   "name": "python3"
  },
  "language_info": {
   "codemirror_mode": {
    "name": "ipython",
    "version": 3
   },
   "file_extension": ".py",
   "mimetype": "text/x-python",
   "name": "python",
   "nbconvert_exporter": "python",
   "pygments_lexer": "ipython3",
   "version": "3.9.7"
  }
 },
 "nbformat": 4,
 "nbformat_minor": 4
}
